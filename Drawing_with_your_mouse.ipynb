{
 "cells": [
  {
   "cell_type": "code",
   "execution_count": 2,
   "id": "807efd18",
   "metadata": {},
   "outputs": [],
   "source": [
    "import cv2\n",
    "import numpy as np"
   ]
  },
  {
   "cell_type": "code",
   "execution_count": 3,
   "id": "e9cc5478",
   "metadata": {},
   "outputs": [],
   "source": [
    "def draw_circle(event, x,y,flags,param):\n",
    "    if event == cv2.EVENT_LBUTTONDOWN:\n",
    "        cv2.circle(img, (x,y),100,(0,255,0),-1)\n",
    "\n",
    "cv2.namedWindow(winname = \"my\")\n",
    "cv2.setMouseCallback(\"my\", draw_circle)"
   ]
  },
  {
   "cell_type": "code",
   "execution_count": 4,
   "id": "ca8f4ec3",
   "metadata": {},
   "outputs": [],
   "source": [
    "img = np.zeros((512, 512,3))"
   ]
  },
  {
   "cell_type": "code",
   "execution_count": null,
   "id": "3f8fd87f",
   "metadata": {},
   "outputs": [],
   "source": [
    "\n",
    "while True:\n",
    "    cv2.imshow(\"my\", img)\n",
    "    if cv2.waitKey(20) & 0xFF==27:\n",
    "        break\n",
    "cv2.destroyAllWindows()"
   ]
  },
  {
   "cell_type": "code",
   "execution_count": null,
   "id": "0b2a9214",
   "metadata": {},
   "outputs": [],
   "source": []
  }
 ],
 "metadata": {
  "kernelspec": {
   "display_name": "Python 3",
   "language": "python",
   "name": "python3"
  },
  "language_info": {
   "codemirror_mode": {
    "name": "ipython",
    "version": 3
   },
   "file_extension": ".py",
   "mimetype": "text/x-python",
   "name": "python",
   "nbconvert_exporter": "python",
   "pygments_lexer": "ipython3",
   "version": "3.7.11"
  }
 },
 "nbformat": 4,
 "nbformat_minor": 5
}
