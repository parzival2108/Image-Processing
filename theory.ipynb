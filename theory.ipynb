{
 "cells": [
  {
   "cell_type": "markdown",
   "id": "e4ed9c7b",
   "metadata": {},
   "source": [
    "# Image Formation "
   ]
  },
  {
   "cell_type": "markdown",
   "id": "0f7ef354",
   "metadata": {},
   "source": [
    "- image formation is projection of 3D scene on to 2dim plane. We need to understand geometric and photometric relationship between a scene and its image.\n",
    "\n",
    "\n",
    "- Geometric meaning: a point in the scene, where does it end up in the image?\n",
    "- Photometric meaning: given the brightness and appearance of a point in the scene, what will be the brightness and appearance in the image. \n",
    "\n",
    "\n"
   ]
  },
  {
   "cell_type": "markdown",
   "id": "53288b0f",
   "metadata": {},
   "source": [
    "# Pinhole and Perspective Projection: derivation and visual manifestation\n",
    "\n",
    "- because pinhole cameras dont gather much light, we use lenses. Using lenses for image formation. Lenses have various attributes\n",
    "    - focal length \n",
    "    - depth of field\n",
    "    - deep focus\n",
    "    - f number"
   ]
  },
  {
   "cell_type": "markdown",
   "id": "bc9f4fcd",
   "metadata": {},
   "source": [
    "# Pinhole"
   ]
  },
  {
   "cell_type": "markdown",
   "id": "ff70c18a",
   "metadata": {},
   "source": [
    "- pinhole is a sheet placed between the scene and an image. \n",
    "- create coordinate frame placed at the pinhole\n",
    "- with z hole pointing at optimal axis, optical axis is perpendicular to the image plane. \n",
    "- effective focal length: the distance between image and the pinhole, denoted as f.\n",
    "- a point, p0, projects from a scene through the pinhole onto the image, denoted by r0 = (x0, y0, z0). And its image denoted as ri = (xi, yi, f)\n",
    "\n",
    "\n",
    "- what is the perspective projection of a line in 3D? since a line and point defines a plane in 3d. all the rays of light pass through the pinhole lie on this plane. therefore all rays of light pass through the pinhole towards the image plane should also lie on this plane. and so the image of this 3d line on ur 2d image must lie in the intersection of this plane and image plane. so the image of a line in 3d must be a line in 2d. therefore straightlines in 3d is straightline in photographs. \n"
   ]
  },
  {
   "cell_type": "markdown",
   "id": "8fef29d1",
   "metadata": {},
   "source": [
    "# Image magnification"
   ]
  },
  {
   "cell_type": "markdown",
   "id": "ed2c7039",
   "metadata": {},
   "source": [
    "- focal length = distance between lens and the image\n",
    "- aperture of lens: light receiving area of lens\n",
    "- diaphram: aperture is implimented using diaphram "
   ]
  },
  {
   "cell_type": "markdown",
   "id": "1552cf3a",
   "metadata": {},
   "source": [
    "# what is colour?"
   ]
  },
  {
   "cell_type": "markdown",
   "id": "02acbc86",
   "metadata": {},
   "source": [
    "- Human response to different wavelengths of light. \n",
    "- visible wavelength to human eyes is between 400-700 nano meters.lower than 400 is uv light, higher than 700 is infrared light, both are invisible to human eyes, but can be perceived by computer vision systems to measure. \n",
    "- retina is a sensor for human eye"
   ]
  },
  {
   "cell_type": "markdown",
   "id": "8b1574fb",
   "metadata": {},
   "source": [
    "# Image Processing"
   ]
  },
  {
   "cell_type": "markdown",
   "id": "0fdfcd83",
   "metadata": {},
   "source": [
    "- Motion Blurr\n",
    "- defocused blurr"
   ]
  },
  {
   "cell_type": "markdown",
   "id": "ce3636b3",
   "metadata": {},
   "source": [
    "- enhancing edges, corners"
   ]
  },
  {
   "cell_type": "markdown",
   "id": "6fc6db21",
   "metadata": {},
   "source": [
    "- pixel Processing\n",
    "\n",
    "- linear and shift invariant system (can be implimented as convolution)\n",
    "\n",
    "- linear image filters\n",
    "\n",
    "- non linear image filters\n",
    "\n",
    "- template matching by correlation \n"
   ]
  },
  {
   "cell_type": "markdown",
   "id": "28789c9b",
   "metadata": {},
   "source": [
    "- image is function(x,y), f(x,y) is the image intensity at position (x,y)"
   ]
  },
  {
   "cell_type": "markdown",
   "id": "f6af8ed4",
   "metadata": {},
   "source": [
    "- any linear and shift invariant system is performing a convolution"
   ]
  },
  {
   "cell_type": "markdown",
   "id": "3aac7740",
   "metadata": {},
   "source": [
    "- unit impluse function\n",
    "     - when u convolve any function with b with unit impulse function, you going to get b out, its called the sifting property of unit impulse function"
   ]
  },
  {
   "cell_type": "code",
   "execution_count": null,
   "id": "aedeb503",
   "metadata": {},
   "outputs": [],
   "source": []
  }
 ],
 "metadata": {
  "kernelspec": {
   "display_name": "Python 3",
   "language": "python",
   "name": "python3"
  },
  "language_info": {
   "codemirror_mode": {
    "name": "ipython",
    "version": 3
   },
   "file_extension": ".py",
   "mimetype": "text/x-python",
   "name": "python",
   "nbconvert_exporter": "python",
   "pygments_lexer": "ipython3",
   "version": "3.7.11"
  }
 },
 "nbformat": 4,
 "nbformat_minor": 5
}
