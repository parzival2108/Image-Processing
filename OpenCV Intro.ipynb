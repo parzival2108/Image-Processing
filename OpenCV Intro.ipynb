{
 "cells": [
  {
   "cell_type": "code",
   "execution_count": null,
   "id": "7846bb81",
   "metadata": {},
   "outputs": [],
   "source": [
    "import cv2\n",
    "import numpy as np\n",
    "import matplotlib.pyplot as plt"
   ]
  },
  {
   "cell_type": "code",
   "execution_count": null,
   "id": "0a046f98",
   "metadata": {},
   "outputs": [],
   "source": [
    "i = cv2.imread(\"lethi.jpeg\")\n",
    "# cv2.imshow(\"hello sexy\",inputs)\n",
    "# cv2.waitKey(0)\n",
    "# cv2.destroyAllwindows()"
   ]
  },
  {
   "cell_type": "code",
   "execution_count": null,
   "id": "7b83b6e7",
   "metadata": {},
   "outputs": [],
   "source": []
  },
  {
   "cell_type": "markdown",
   "id": "60c772d1",
   "metadata": {},
   "source": [
    "# shape and dimensions of the image"
   ]
  },
  {
   "cell_type": "code",
   "execution_count": null,
   "id": "65b98237",
   "metadata": {},
   "outputs": [],
   "source": [
    "print(\"Height of Image:\", int(i.shape[0]))"
   ]
  },
  {
   "cell_type": "markdown",
   "id": "528b9702",
   "metadata": {},
   "source": [
    "# savings images we edit"
   ]
  },
  {
   "cell_type": "code",
   "execution_count": null,
   "id": "3fb3370c",
   "metadata": {},
   "outputs": [],
   "source": [
    "cv2.imwrite(\"output.jpeg\", i)"
   ]
  },
  {
   "cell_type": "code",
   "execution_count": null,
   "id": "10c7e074",
   "metadata": {},
   "outputs": [],
   "source": [
    "cv2.imwrite(\"outputs.jpg\", i)"
   ]
  },
  {
   "cell_type": "markdown",
   "id": "a73efe47",
   "metadata": {},
   "source": [
    "# GrayScaling"
   ]
  },
  {
   "cell_type": "code",
   "execution_count": null,
   "id": "e6030d40",
   "metadata": {},
   "outputs": [],
   "source": [
    "gray_image = cv2.cvtColor(i,cv2.COLOR_BGR2GRAY)"
   ]
  },
  {
   "cell_type": "code",
   "execution_count": null,
   "id": "beeb8941",
   "metadata": {
    "scrolled": true
   },
   "outputs": [],
   "source": [
    "plt.imshow(gray_image, cmap= \"gray\")"
   ]
  },
  {
   "cell_type": "markdown",
   "id": "ee5dcbbc",
   "metadata": {},
   "source": [
    "# individual colours"
   ]
  },
  {
   "cell_type": "code",
   "execution_count": null,
   "id": "d4e0322f",
   "metadata": {},
   "outputs": [],
   "source": [
    "B,G,R = i[12,0]\n",
    "i.shape"
   ]
  },
  {
   "cell_type": "code",
   "execution_count": null,
   "id": "1e393490",
   "metadata": {},
   "outputs": [],
   "source": [
    "print(B,G,R)"
   ]
  },
  {
   "cell_type": "code",
   "execution_count": null,
   "id": "6722826e",
   "metadata": {},
   "outputs": [],
   "source": [
    "gray_image.shape"
   ]
  },
  {
   "cell_type": "code",
   "execution_count": null,
   "id": "b9c5e077",
   "metadata": {},
   "outputs": [],
   "source": [
    "gray_image[0,0]"
   ]
  },
  {
   "cell_type": "code",
   "execution_count": null,
   "id": "7c2bf1e5",
   "metadata": {},
   "outputs": [],
   "source": [
    "B,G, R = cv2.split(i)"
   ]
  },
  {
   "cell_type": "code",
   "execution_count": null,
   "id": "c0e48480",
   "metadata": {},
   "outputs": [],
   "source": [
    "plt.imshow(R)"
   ]
  },
  {
   "cell_type": "code",
   "execution_count": null,
   "id": "f0237db4",
   "metadata": {},
   "outputs": [],
   "source": [
    "plt.imshow(G)"
   ]
  },
  {
   "cell_type": "code",
   "execution_count": null,
   "id": "0891d910",
   "metadata": {},
   "outputs": [],
   "source": [
    "plt.imshow(B)"
   ]
  },
  {
   "cell_type": "code",
   "execution_count": null,
   "id": "e5a52a84",
   "metadata": {},
   "outputs": [],
   "source": [
    "plt.imshow(i)"
   ]
  },
  {
   "cell_type": "code",
   "execution_count": null,
   "id": "14222576",
   "metadata": {},
   "outputs": [],
   "source": [
    "cv2.imshow(\"hello\",i)"
   ]
  },
  {
   "cell_type": "code",
   "execution_count": null,
   "id": "d323a89b",
   "metadata": {},
   "outputs": [],
   "source": [
    "cv2.waitKey(0)\n",
    "cv2.destroyAllWindows()"
   ]
  },
  {
   "cell_type": "code",
   "execution_count": null,
   "id": "538a1875",
   "metadata": {},
   "outputs": [],
   "source": []
  },
  {
   "cell_type": "code",
   "execution_count": null,
   "id": "f8670c06",
   "metadata": {},
   "outputs": [],
   "source": [
    "img = cv2.imread(\"lethi-1.jpeg\")"
   ]
  },
  {
   "cell_type": "code",
   "execution_count": null,
   "id": "6be6514e",
   "metadata": {},
   "outputs": [],
   "source": [
    "plt.imshow(img)"
   ]
  },
  {
   "cell_type": "code",
   "execution_count": null,
   "id": "e327e8c1",
   "metadata": {},
   "outputs": [],
   "source": [
    "fimg = cv2.cvtColor(img, cv2.COLOR_BGR2RGB)"
   ]
  },
  {
   "cell_type": "code",
   "execution_count": null,
   "id": "412557c7",
   "metadata": {},
   "outputs": [],
   "source": [
    "plt.imshow(fimg)"
   ]
  },
  {
   "cell_type": "code",
   "execution_count": null,
   "id": "5ac7426f",
   "metadata": {},
   "outputs": [],
   "source": [
    "fimg.shape"
   ]
  },
  {
   "cell_type": "code",
   "execution_count": null,
   "id": "6a02c2bd",
   "metadata": {},
   "outputs": [],
   "source": [
    "img_gray = cv2.imread(\"lethi-1.jpeg\", cv2.IMREAD_GRAYSCALE)"
   ]
  },
  {
   "cell_type": "code",
   "execution_count": null,
   "id": "e1e10db7",
   "metadata": {},
   "outputs": [],
   "source": [
    "img_gray.shape"
   ]
  },
  {
   "cell_type": "code",
   "execution_count": null,
   "id": "0189b380",
   "metadata": {},
   "outputs": [],
   "source": [
    "img_gray"
   ]
  },
  {
   "cell_type": "code",
   "execution_count": null,
   "id": "94fa508b",
   "metadata": {},
   "outputs": [],
   "source": [
    "\n",
    "img_gray.min()"
   ]
  },
  {
   "cell_type": "code",
   "execution_count": null,
   "id": "85d95351",
   "metadata": {},
   "outputs": [],
   "source": [
    "\n",
    "img_gray.max()"
   ]
  },
  {
   "cell_type": "code",
   "execution_count": null,
   "id": "d9b3f6e6",
   "metadata": {},
   "outputs": [],
   "source": [
    "plt.imshow(img_gray, cmap = 'gray')"
   ]
  },
  {
   "cell_type": "code",
   "execution_count": null,
   "id": "8aba5774",
   "metadata": {},
   "outputs": [],
   "source": [
    "plt.imshow(img_gray, cmap = 'magma')"
   ]
  },
  {
   "cell_type": "markdown",
   "id": "87d4529a",
   "metadata": {},
   "source": [
    "# resizing images"
   ]
  },
  {
   "cell_type": "code",
   "execution_count": null,
   "id": "2af15b79",
   "metadata": {},
   "outputs": [],
   "source": [
    "plt.imshow(fimg)"
   ]
  },
  {
   "cell_type": "code",
   "execution_count": null,
   "id": "3108cbb2",
   "metadata": {},
   "outputs": [],
   "source": [
    "fimg.shape"
   ]
  },
  {
   "cell_type": "code",
   "execution_count": null,
   "id": "302229cb",
   "metadata": {},
   "outputs": [],
   "source": [
    "resized_img = cv2.resize(fimg, (400,400))"
   ]
  },
  {
   "cell_type": "code",
   "execution_count": null,
   "id": "8fa10826",
   "metadata": {},
   "outputs": [],
   "source": [
    "plt.imshow(resized_img)"
   ]
  },
  {
   "cell_type": "code",
   "execution_count": null,
   "id": "7cffb596",
   "metadata": {},
   "outputs": [],
   "source": [
    "resized_im1 = cv2.resize(fimg, (400,200))"
   ]
  },
  {
   "cell_type": "code",
   "execution_count": null,
   "id": "98ae16fa",
   "metadata": {},
   "outputs": [],
   "source": [
    "plt.imshow(resized_im1)"
   ]
  },
  {
   "cell_type": "markdown",
   "id": "74b1b14a",
   "metadata": {},
   "source": [
    "# Make the image 50% smaller"
   ]
  },
  {
   "cell_type": "code",
   "execution_count": null,
   "id": "0bb78ef0",
   "metadata": {},
   "outputs": [],
   "source": [
    "w_ratio = 0.5\n",
    "h_ratio = 0.5"
   ]
  },
  {
   "cell_type": "code",
   "execution_count": null,
   "id": "db79bf1a",
   "metadata": {},
   "outputs": [],
   "source": [
    "resized_img3 = cv2.resize(fimg,(0,0,),fimg,w_ratio,h_ratio)"
   ]
  },
  {
   "cell_type": "code",
   "execution_count": null,
   "id": "94547123",
   "metadata": {},
   "outputs": [],
   "source": [
    "plt.imshow(resized_img3)"
   ]
  },
  {
   "cell_type": "markdown",
   "id": "338e2bb2",
   "metadata": {},
   "source": [
    "# flip images: horizontal and vertical images"
   ]
  },
  {
   "cell_type": "code",
   "execution_count": null,
   "id": "b081db7d",
   "metadata": {},
   "outputs": [],
   "source": [
    "fimg2 = cv2.flip(fimg,1)"
   ]
  },
  {
   "cell_type": "code",
   "execution_count": null,
   "id": "85dc5822",
   "metadata": {},
   "outputs": [],
   "source": [
    "plt.imshow(fimg2)"
   ]
  },
  {
   "cell_type": "code",
   "execution_count": null,
   "id": "1d1b1bb9",
   "metadata": {},
   "outputs": [],
   "source": [
    "type(fimg)"
   ]
  },
  {
   "cell_type": "code",
   "execution_count": null,
   "id": "ec570365",
   "metadata": {},
   "outputs": [],
   "source": [
    "cv2.imwrite(\"totally_new.jpg\", fimg2)"
   ]
  },
  {
   "cell_type": "code",
   "execution_count": null,
   "id": "6e50fc9f",
   "metadata": {},
   "outputs": [],
   "source": [
    "fig = plt.figure(figsize=(10,8))\n",
    "ax = fig.add_subplot(111)\n",
    "ax.imshow(fimg2)"
   ]
  },
  {
   "cell_type": "code",
   "execution_count": null,
   "id": "56fed0ce",
   "metadata": {},
   "outputs": [],
   "source": [
    "lethi = cv2.imread(\"lethi2.jpeg\")"
   ]
  },
  {
   "cell_type": "code",
   "execution_count": null,
   "id": "4148c0b5",
   "metadata": {},
   "outputs": [],
   "source": [
    "plt.imshow(lethi)"
   ]
  },
  {
   "cell_type": "code",
   "execution_count": null,
   "id": "c73c21ad",
   "metadata": {},
   "outputs": [],
   "source": [
    "lethi3 = cv2.cvtColor(lethi, cv2.COLOR_BGR2RGB)"
   ]
  },
  {
   "cell_type": "code",
   "execution_count": null,
   "id": "a0053587",
   "metadata": {},
   "outputs": [],
   "source": [
    "plt.imshow(lethi3)"
   ]
  },
  {
   "cell_type": "code",
   "execution_count": null,
   "id": "6d1e3aa8",
   "metadata": {},
   "outputs": [],
   "source": [
    "lethi4 = cv2.flip(lethi3,1)"
   ]
  },
  {
   "cell_type": "code",
   "execution_count": null,
   "id": "42f6478b",
   "metadata": {},
   "outputs": [],
   "source": [
    "plt.imshow(lethi4)"
   ]
  },
  {
   "cell_type": "code",
   "execution_count": null,
   "id": "8b249792",
   "metadata": {},
   "outputs": [],
   "source": [
    "cv2.imwrite(\"new.jpg\", lethi4)"
   ]
  },
  {
   "cell_type": "code",
   "execution_count": null,
   "id": "cb0561cf",
   "metadata": {},
   "outputs": [],
   "source": [
    "fig = plt.figure(figsize=(20,20))\n",
    "ax = fig.add_subplot(111)\n",
    "ax.imshow(lethi4)"
   ]
  },
  {
   "cell_type": "code",
   "execution_count": null,
   "id": "9bb7b840",
   "metadata": {},
   "outputs": [],
   "source": [
    "import cv2\n",
    "img = cv2.imread(\"lethi.jpeg\")\n",
    "cv2.imshow(\"Puppy\", img)\n",
    "cv2.waitKey()"
   ]
  },
  {
   "cell_type": "code",
   "execution_count": null,
   "id": "55dc97d0",
   "metadata": {},
   "outputs": [],
   "source": []
  },
  {
   "cell_type": "code",
   "execution_count": 1,
   "id": "c747fca5",
   "metadata": {},
   "outputs": [
    {
     "name": "stdout",
     "output_type": "stream",
     "text": [
      "new\n"
     ]
    }
   ],
   "source": [
    "print(\"new\")"
   ]
  },
  {
   "cell_type": "code",
   "execution_count": null,
   "id": "a323d577",
   "metadata": {},
   "outputs": [],
   "source": []
  }
 ],
 "metadata": {
  "kernelspec": {
   "display_name": "Python 3",
   "language": "python",
   "name": "python3"
  },
  "language_info": {
   "codemirror_mode": {
    "name": "ipython",
    "version": 3
   },
   "file_extension": ".py",
   "mimetype": "text/x-python",
   "name": "python",
   "nbconvert_exporter": "python",
   "pygments_lexer": "ipython3",
   "version": "3.7.11"
  }
 },
 "nbformat": 4,
 "nbformat_minor": 5
}
